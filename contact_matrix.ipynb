{
 "cells": [
  {
   "cell_type": "code",
   "execution_count": 1,
   "id": "cd8d805d",
   "metadata": {},
   "outputs": [
    {
     "name": "stderr",
     "output_type": "stream",
     "text": [
      "/home/yadav129/.local/lib/python3.8/site-packages/tqdm/auto.py:22: TqdmWarning: IProgress not found. Please update jupyter and ipywidgets. See https://ipywidgets.readthedocs.io/en/stable/user_install.html\n",
      "  from .autonotebook import tqdm as notebook_tqdm\n"
     ]
    }
   ],
   "source": [
    "import numpy as np\n",
    "import copy as cp\n",
    "import subprocess as sp\n",
    "import os as os\n",
    "import shutil as sh\n",
    "import MDAnalysis as mdana\n",
    "import sys\n",
    "from MDAnalysis.analysis.distances import distance_array\n",
    "import pandas as pd\n",
    "import mdtraj as md\n",
    "import matplotlib\n",
    "from matplotlib import pyplot as plt\n",
    "from sklearn.model_selection import train_test_split\n",
    "from scipy.sparse import coo_matrix\n"
   ]
  },
  {
   "cell_type": "code",
   "execution_count": 2,
   "id": "eaaf84ed",
   "metadata": {},
   "outputs": [],
   "source": [
    "ref_structure=\"RAEF_Run1_50_npt_eq.pdb\"\n",
    "traj         =\"RAEF_Run1_50_protein_final.xtc\"\n",
    "Name         ='RAEF_50_Run1'\n",
    "\n",
    "\n",
    "#structure parameters\n",
    "topology   = md.load(ref_structure).topology\n",
    "trajectory = md.load(traj, top=ref_structure)\n",
    "frames     = trajectory.n_frames #Number of frames\n",
    "chains     = 50   #Number of chains\n",
    "atoms      = int(topology.n_atoms/chains)#Number of atoms in each monomer \n",
    "AminoAcids = int(topology.n_residues/chains) #Number of residues per chain "
   ]
  },
  {
   "cell_type": "code",
   "execution_count": 3,
   "id": "c5aa4f2e",
   "metadata": {},
   "outputs": [
    {
     "data": {
      "text/plain": [
       "(20001, 15)"
      ]
     },
     "execution_count": 3,
     "metadata": {},
     "output_type": "execute_result"
    }
   ],
   "source": [
    "frames, AminoAcids"
   ]
  },
  {
   "cell_type": "code",
   "execution_count": 4,
   "id": "4adfff46",
   "metadata": {},
   "outputs": [],
   "source": [
    "isum=1\n",
    "atoms_list=[]\n",
    "atomsperAminoAcid=[]\n",
    "residue_list=[]"
   ]
  },
  {
   "cell_type": "code",
   "execution_count": 5,
   "id": "0e7f45e8",
   "metadata": {},
   "outputs": [
    {
     "data": {
      "text/plain": [
       "(50, 20001, 1600)"
      ]
     },
     "execution_count": 5,
     "metadata": {},
     "output_type": "execute_result"
    }
   ],
   "source": [
    "chains, frames, atoms*chains"
   ]
  },
  {
   "cell_type": "code",
   "execution_count": 6,
   "id": "16fc0fb8",
   "metadata": {},
   "outputs": [
    {
     "name": "stderr",
     "output_type": "stream",
     "text": [
      "/home/yadav129/.local/lib/python3.8/site-packages/MDAnalysis/topology/PDBParser.py:317: UserWarning: Element information is missing, elements attribute will not be populated. If needed these can be guessed using MDAnalysis.topology.guessers.\n",
      "  warnings.warn(\"Element information is missing, elements attribute \"\n"
     ]
    }
   ],
   "source": [
    "uni = mdana.Universe(ref_structure,traj)\n",
    "n,t = list(enumerate(uni.trajectory))[0]\n",
    "box = t.dimensions[:6]"
   ]
  },
  {
   "cell_type": "code",
   "execution_count": 7,
   "id": "ef2ce670",
   "metadata": {},
   "outputs": [],
   "source": [
    "contact_sum = np.zeros((AminoAcids, AminoAcids))\n",
    "\n",
    "max_distance=5.0\n",
    "dist_arr    = []\n",
    "contact_arr = []\n",
    "\n",
    "\n",
    "label_arr= []\n",
    "for tt in uni.trajectory[0::100]:\n",
    "    atom_Groups = [[] for x in range(chains)]\n",
    "    m_start=0\n",
    "    for m in range(0,chains):\n",
    "        m_end = atoms * (m+1)\n",
    "        atom_Groups[m].extend([uni.select_atoms('bynum '+ str(m_start) + ':' + str(m_end) +' and name BB')])\n",
    "        m_start = m_end + 1\n",
    "    mySet = set([])    \n",
    "    count = 0\n",
    "    for i in range(chains-1):\n",
    "        for j in range(i+1,chains):\n",
    "            dist = np.round(distance_array(atom_Groups[i][0].positions,atom_Groups[j][0].positions,box),2)\n",
    "            dist[dist <= max_distance] = 1\n",
    "            dist[dist >= max_distance] = 0\n",
    "            contact_sum = dist + contact_sum\n",
    "            dist_arr.append(dist)\n",
    "            contact_arr.append(contact_sum)\n",
    "            label_arr.append(i)"
   ]
  },
  {
   "cell_type": "code",
   "execution_count": 8,
   "id": "e193b371",
   "metadata": {},
   "outputs": [],
   "source": [
    "def displayMatrix(matrix):     \n",
    "    for row in matrix:\n",
    "        for element in row:\n",
    "            print(element, end =\" \")\n",
    "        print(\"\\n\")"
   ]
  },
  {
   "cell_type": "code",
   "execution_count": 9,
   "id": "a5c58965",
   "metadata": {},
   "outputs": [],
   "source": [
    "#displayMatrix(dist_arr)"
   ]
  },
  {
   "cell_type": "code",
   "execution_count": 10,
   "id": "b1268c65",
   "metadata": {},
   "outputs": [
    {
     "data": {
      "text/plain": [
       "(246225, 15, 15)"
      ]
     },
     "execution_count": 10,
     "metadata": {},
     "output_type": "execute_result"
    }
   ],
   "source": [
    "label_arr=np.asarray(label_arr)\n",
    "dist_arr =np.asarray(dist_arr)\n",
    "dist_arr.shape"
   ]
  },
  {
   "cell_type": "code",
   "execution_count": 11,
   "id": "503a8875",
   "metadata": {},
   "outputs": [],
   "source": [
    "import h5py\n",
    "with h5py.File(Name+'_data.h5', 'w') as hf:\n",
    "    hf.create_dataset(\"RAEF\",  data=dist_arr)"
   ]
  },
  {
   "cell_type": "code",
   "execution_count": 12,
   "id": "35b7666b",
   "metadata": {},
   "outputs": [
    {
     "data": {
      "text/plain": [
       "((15, 15, 246225), 3)"
      ]
     },
     "execution_count": 12,
     "metadata": {},
     "output_type": "execute_result"
    }
   ],
   "source": [
    "data=np.transpose(dist_arr, (1,2, 0))\n",
    "data.shape, data.ndim"
   ]
  },
  {
   "cell_type": "code",
   "execution_count": 13,
   "id": "42ff51d5",
   "metadata": {},
   "outputs": [
    {
     "name": "stdout",
     "output_type": "stream",
     "text": [
      "contact_map_shape (246225, 15, 15)\n"
     ]
    }
   ],
   "source": [
    "with h5py.File(\"RAEF_50_Run1_data.h5\", \"r\") as f:\n",
    "    contact_maps = f[\"RAEF\"][...]\n",
    "\n",
    "print (\"contact_map_shape\",contact_maps.shape) \n",
    "\n",
    "coo_matrices = [coo_matrix(cm) for cm in contact_maps]\n",
    "X = [np.concatenate((c.row, c.col)) for c in coo_matrices]\n",
    "X = np.array(X, dtype=object)\n",
    "print(X.astype(np.float64).dtype)\n",
    "\n",
    "X.shape, print(X.dtype) \n"
   ]
  },
  {
   "cell_type": "code",
   "execution_count": null,
   "id": "0719ccef",
   "metadata": {},
   "outputs": [],
   "source": [
    "import h5py\n",
    "h= h5py.File('RAEF_data_coo_mat.h5', 'w')\n",
    "dset=h.create_dataset(\"RAEF\",  data=X)\n",
    "h5py.close()"
   ]
  },
  {
   "cell_type": "code",
   "execution_count": null,
   "id": "048cd06d",
   "metadata": {},
   "outputs": [],
   "source": [
    "x = np.arange(200).reshape((4,5,10))\n",
    "x.shape\n",
    "with open(Name+\"_contact_data.txt\", 'w') as outfile: \n",
    "    outfile.write('# Array shape: {0}\\n'.format(data.shape))\n",
    "    for data_slice in data:\n",
    "        np.savetxt(outfile, data_slice, fmt='%-7.2f')\n"
   ]
  },
  {
   "cell_type": "code",
   "execution_count": null,
   "id": "af54e150",
   "metadata": {},
   "outputs": [],
   "source": [
    "data=np.loadtxt('RAEF_50_Run1_contact_data.txt')\n",
    "new_data = data.reshape((15,15,3675))\n",
    "data.shape, new_data.shape"
   ]
  }
 ],
 "metadata": {
  "kernelspec": {
   "display_name": "Python 3.8.10 64-bit",
   "language": "python",
   "name": "python3"
  },
  "language_info": {
   "codemirror_mode": {
    "name": "ipython",
    "version": 3
   },
   "file_extension": ".py",
   "mimetype": "text/x-python",
   "name": "python",
   "nbconvert_exporter": "python",
   "pygments_lexer": "ipython3",
   "version": "3.8.10"
  },
  "vscode": {
   "interpreter": {
    "hash": "916dbcbb3f70747c44a77c7bcd40155683ae19c65e1c03b4aa3499c5328201f1"
   }
  }
 },
 "nbformat": 4,
 "nbformat_minor": 5
}
